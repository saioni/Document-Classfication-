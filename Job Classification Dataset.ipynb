{
 "cells": [
  {
   "cell_type": "markdown",
   "metadata": {},
   "source": [
    "## Classifying Documents using Naive Bayes,Random Forest, linear and non-linear SVM"
   ]
  },
  {
   "cell_type": "code",
   "execution_count": 2,
   "metadata": {},
   "outputs": [
    {
     "name": "stderr",
     "output_type": "stream",
     "text": [
      "C:\\Users\\dell\\Anaconda3\\lib\\site-packages\\sklearn\\cross_validation.py:41: DeprecationWarning: This module was deprecated in version 0.18 in favor of the model_selection module into which all the refactored classes and functions are moved. Also note that the interface of the new CV iterators are different from that of this module. This module will be removed in 0.20.\n",
      "  \"This module will be removed in 0.20.\", DeprecationWarning)\n"
     ]
    }
   ],
   "source": [
    "import nltk\n",
    "import pandas as pd\n",
    "import numpy as np\n",
    "from sklearn.cross_validation import train_test_split\n",
    "from sklearn.metrics import classification_report\n",
    "import sklearn.metrics\n",
    "from pandas import DataFrame,Series\n",
    "from sklearn.feature_extraction.text import TfidfVectorizer\n",
    "from time import time\n",
    "import matplotlib.pyplot as plt"
   ]
  },
  {
   "cell_type": "code",
   "execution_count": 3,
   "metadata": {
    "collapsed": true
   },
   "outputs": [],
   "source": [
    "data = pd.read_csv('C:/Users/dell/Desktop/Other Projects/jobs-on-naukricom/job_classification.csv')"
   ]
  },
  {
   "cell_type": "code",
   "execution_count": 4,
   "metadata": {},
   "outputs": [
    {
     "data": {
      "text/html": [
       "<div>\n",
       "<style>\n",
       "    .dataframe thead tr:only-child th {\n",
       "        text-align: right;\n",
       "    }\n",
       "\n",
       "    .dataframe thead th {\n",
       "        text-align: left;\n",
       "    }\n",
       "\n",
       "    .dataframe tbody tr th {\n",
       "        vertical-align: top;\n",
       "    }\n",
       "</style>\n",
       "<table border=\"1\" class=\"dataframe\">\n",
       "  <thead>\n",
       "    <tr style=\"text-align: right;\">\n",
       "      <th></th>\n",
       "      <th>company</th>\n",
       "      <th>education</th>\n",
       "      <th>experience</th>\n",
       "      <th>industry</th>\n",
       "      <th>jobdescription</th>\n",
       "      <th>jobid</th>\n",
       "      <th>joblocation_address</th>\n",
       "      <th>jobtitle</th>\n",
       "      <th>numberofpositions</th>\n",
       "      <th>payrate</th>\n",
       "      <th>postdate</th>\n",
       "      <th>site_name</th>\n",
       "      <th>skills</th>\n",
       "      <th>uniq_id</th>\n",
       "    </tr>\n",
       "  </thead>\n",
       "  <tbody>\n",
       "    <tr>\n",
       "      <th>0</th>\n",
       "      <td>MM Media Pvt Ltd</td>\n",
       "      <td>UG: B.Tech/B.E. - Any Specialization PG:Any Po...</td>\n",
       "      <td>0 - 1 yrs</td>\n",
       "      <td>Media / Entertainment / Internet</td>\n",
       "      <td>Job Description   Send me Jobs like this Quali...</td>\n",
       "      <td>210516002263</td>\n",
       "      <td>Chennai</td>\n",
       "      <td>Walkin Data Entry Operator (night Shift)</td>\n",
       "      <td>NaN</td>\n",
       "      <td>1,50,000 - 2,25,000 P.A</td>\n",
       "      <td>2016-05-21 19:30:00 +0000</td>\n",
       "      <td>NaN</td>\n",
       "      <td>ITES</td>\n",
       "      <td>43b19632647068535437c774b6ca6cf8</td>\n",
       "    </tr>\n",
       "    <tr>\n",
       "      <th>1</th>\n",
       "      <td>find live infotech</td>\n",
       "      <td>UG: B.Tech/B.E. - Any Specialization PG:MBA/PG...</td>\n",
       "      <td>0 - 0 yrs</td>\n",
       "      <td>Advertising / PR / MR / Event Management</td>\n",
       "      <td>Job Description   Send me Jobs like this Quali...</td>\n",
       "      <td>210516002391</td>\n",
       "      <td>Chennai</td>\n",
       "      <td>Work Based Onhome Based Part Time.</td>\n",
       "      <td>60.0</td>\n",
       "      <td>1,50,000 - 2,50,000 P.A. 20000</td>\n",
       "      <td>2016-05-21 19:30:00 +0000</td>\n",
       "      <td>NaN</td>\n",
       "      <td>Marketing</td>\n",
       "      <td>d4c72325e57f89f364812b5ed5a795f0</td>\n",
       "    </tr>\n",
       "    <tr>\n",
       "      <th>2</th>\n",
       "      <td>Softtech Career Infosystem Pvt. Ltd</td>\n",
       "      <td>UG: Any Graduate - Any Specialization PG:Any P...</td>\n",
       "      <td>4 - 8 yrs</td>\n",
       "      <td>IT-Software / Software Services</td>\n",
       "      <td>Job Description   Send me Jobs like this - as ...</td>\n",
       "      <td>101016900534</td>\n",
       "      <td>Bengaluru</td>\n",
       "      <td>Pl/sql Developer - SQL</td>\n",
       "      <td>NaN</td>\n",
       "      <td>Not Disclosed by Recruiter</td>\n",
       "      <td>2016-10-13 16:20:55 +0000</td>\n",
       "      <td>NaN</td>\n",
       "      <td>IT Software - Application Programming</td>\n",
       "      <td>c47df6f4cfdf5b46f1fd713ba61b9eba</td>\n",
       "    </tr>\n",
       "    <tr>\n",
       "      <th>3</th>\n",
       "      <td>Onboard HRServices LLP</td>\n",
       "      <td>UG: Any Graduate - Any Specialization PG:CA Do...</td>\n",
       "      <td>11 - 15 yrs</td>\n",
       "      <td>Banking / Financial Services / Broking</td>\n",
       "      <td>Job Description   Send me Jobs like this - Inv...</td>\n",
       "      <td>81016900536</td>\n",
       "      <td>Mumbai, Bengaluru, Kolkata, Chennai, Coimbator...</td>\n",
       "      <td>Manager/ad/partner - Indirect Tax - CA</td>\n",
       "      <td>NaN</td>\n",
       "      <td>Not Disclosed by Recruiter</td>\n",
       "      <td>2016-10-13 16:20:55 +0000</td>\n",
       "      <td>NaN</td>\n",
       "      <td>Accounts</td>\n",
       "      <td>115d28f140f694dd1cc61c53d03c66ae</td>\n",
       "    </tr>\n",
       "    <tr>\n",
       "      <th>4</th>\n",
       "      <td>Spire Technologies and Solutions Pvt. Ltd.</td>\n",
       "      <td>UG: B.Tech/B.E. - Any Specialization PG:Any Po...</td>\n",
       "      <td>6 - 8 yrs</td>\n",
       "      <td>IT-Software / Software Services</td>\n",
       "      <td>Job Description   Send me Jobs like this Pleas...</td>\n",
       "      <td>120916002122</td>\n",
       "      <td>Bengaluru</td>\n",
       "      <td>JAVA Technical Lead (6-8 yrs) -</td>\n",
       "      <td>4.0</td>\n",
       "      <td>Not Disclosed by Recruiter</td>\n",
       "      <td>2016-10-13 16:20:55 +0000</td>\n",
       "      <td>NaN</td>\n",
       "      <td>IT Software - Application Programming</td>\n",
       "      <td>a12553fc03bc7bcced8b1bb8963f97b4</td>\n",
       "    </tr>\n",
       "  </tbody>\n",
       "</table>\n",
       "</div>"
      ],
      "text/plain": [
       "                                      company  \\\n",
       "0                            MM Media Pvt Ltd   \n",
       "1                          find live infotech   \n",
       "2         Softtech Career Infosystem Pvt. Ltd   \n",
       "3                      Onboard HRServices LLP   \n",
       "4  Spire Technologies and Solutions Pvt. Ltd.   \n",
       "\n",
       "                                           education   experience  \\\n",
       "0  UG: B.Tech/B.E. - Any Specialization PG:Any Po...    0 - 1 yrs   \n",
       "1  UG: B.Tech/B.E. - Any Specialization PG:MBA/PG...    0 - 0 yrs   \n",
       "2  UG: Any Graduate - Any Specialization PG:Any P...    4 - 8 yrs   \n",
       "3  UG: Any Graduate - Any Specialization PG:CA Do...  11 - 15 yrs   \n",
       "4  UG: B.Tech/B.E. - Any Specialization PG:Any Po...    6 - 8 yrs   \n",
       "\n",
       "                                   industry  \\\n",
       "0          Media / Entertainment / Internet   \n",
       "1  Advertising / PR / MR / Event Management   \n",
       "2           IT-Software / Software Services   \n",
       "3    Banking / Financial Services / Broking   \n",
       "4           IT-Software / Software Services   \n",
       "\n",
       "                                      jobdescription         jobid  \\\n",
       "0  Job Description   Send me Jobs like this Quali...  210516002263   \n",
       "1  Job Description   Send me Jobs like this Quali...  210516002391   \n",
       "2  Job Description   Send me Jobs like this - as ...  101016900534   \n",
       "3  Job Description   Send me Jobs like this - Inv...   81016900536   \n",
       "4  Job Description   Send me Jobs like this Pleas...  120916002122   \n",
       "\n",
       "                                 joblocation_address  \\\n",
       "0                                            Chennai   \n",
       "1                                            Chennai   \n",
       "2                                          Bengaluru   \n",
       "3  Mumbai, Bengaluru, Kolkata, Chennai, Coimbator...   \n",
       "4                                          Bengaluru   \n",
       "\n",
       "                                   jobtitle  numberofpositions  \\\n",
       "0  Walkin Data Entry Operator (night Shift)                NaN   \n",
       "1        Work Based Onhome Based Part Time.               60.0   \n",
       "2                    Pl/sql Developer - SQL                NaN   \n",
       "3    Manager/ad/partner - Indirect Tax - CA                NaN   \n",
       "4           JAVA Technical Lead (6-8 yrs) -                4.0   \n",
       "\n",
       "                          payrate                   postdate site_name  \\\n",
       "0         1,50,000 - 2,25,000 P.A  2016-05-21 19:30:00 +0000       NaN   \n",
       "1  1,50,000 - 2,50,000 P.A. 20000  2016-05-21 19:30:00 +0000       NaN   \n",
       "2      Not Disclosed by Recruiter  2016-10-13 16:20:55 +0000       NaN   \n",
       "3      Not Disclosed by Recruiter  2016-10-13 16:20:55 +0000       NaN   \n",
       "4      Not Disclosed by Recruiter  2016-10-13 16:20:55 +0000       NaN   \n",
       "\n",
       "                                  skills                           uniq_id  \n",
       "0                                   ITES  43b19632647068535437c774b6ca6cf8  \n",
       "1                              Marketing  d4c72325e57f89f364812b5ed5a795f0  \n",
       "2  IT Software - Application Programming  c47df6f4cfdf5b46f1fd713ba61b9eba  \n",
       "3                               Accounts  115d28f140f694dd1cc61c53d03c66ae  \n",
       "4  IT Software - Application Programming  a12553fc03bc7bcced8b1bb8963f97b4  "
      ]
     },
     "execution_count": 4,
     "metadata": {},
     "output_type": "execute_result"
    }
   ],
   "source": [
    "data.head()"
   ]
  },
  {
   "cell_type": "code",
   "execution_count": 5,
   "metadata": {},
   "outputs": [
    {
     "name": "stdout",
     "output_type": "stream",
     "text": [
      "The data-set has 22000 rows and 14 columns\n"
     ]
    }
   ],
   "source": [
    "print(\"The data-set has %d rows and %d columns\"%(data.shape[0],data.shape[1]))"
   ]
  },
  {
   "cell_type": "markdown",
   "metadata": {},
   "source": [
    "## Search for Missing Values"
   ]
  },
  {
   "cell_type": "code",
   "execution_count": 6,
   "metadata": {},
   "outputs": [
    {
     "name": "stdout",
     "output_type": "stream",
     "text": [
      "company: 4\n",
      "education: 1996\n",
      "experience: 4\n",
      "industry: 5\n",
      "jobdescription: 4\n",
      "jobid: 0\n",
      "joblocation_address: 501\n",
      "jobtitle: 0\n",
      "numberofpositions: 17536\n",
      "payrate: 97\n",
      "postdate: 23\n",
      "site_name: 18013\n",
      "skills: 528\n",
      "uniq_id: 0\n"
     ]
    }
   ],
   "source": [
    "for col_name in data.columns:\n",
    "    print (col_name,end=\": \")\n",
    "    print (sum(data[col_name].isnull()))"
   ]
  },
  {
   "cell_type": "code",
   "execution_count": 7,
   "metadata": {
    "collapsed": true
   },
   "outputs": [],
   "source": [
    "data.drop(['numberofpositions','site_name'],axis=1,inplace=True)"
   ]
  },
  {
   "cell_type": "code",
   "execution_count": 8,
   "metadata": {},
   "outputs": [
    {
     "data": {
      "text/html": [
       "<div>\n",
       "<style>\n",
       "    .dataframe thead tr:only-child th {\n",
       "        text-align: right;\n",
       "    }\n",
       "\n",
       "    .dataframe thead th {\n",
       "        text-align: left;\n",
       "    }\n",
       "\n",
       "    .dataframe tbody tr th {\n",
       "        vertical-align: top;\n",
       "    }\n",
       "</style>\n",
       "<table border=\"1\" class=\"dataframe\">\n",
       "  <thead>\n",
       "    <tr style=\"text-align: right;\">\n",
       "      <th></th>\n",
       "      <th>company</th>\n",
       "      <th>education</th>\n",
       "      <th>experience</th>\n",
       "      <th>industry</th>\n",
       "      <th>jobdescription</th>\n",
       "      <th>jobid</th>\n",
       "      <th>joblocation_address</th>\n",
       "      <th>jobtitle</th>\n",
       "      <th>payrate</th>\n",
       "      <th>postdate</th>\n",
       "      <th>skills</th>\n",
       "      <th>uniq_id</th>\n",
       "    </tr>\n",
       "  </thead>\n",
       "  <tbody>\n",
       "    <tr>\n",
       "      <th>0</th>\n",
       "      <td>MM Media Pvt Ltd</td>\n",
       "      <td>UG: B.Tech/B.E. - Any Specialization PG:Any Po...</td>\n",
       "      <td>0 - 1 yrs</td>\n",
       "      <td>Media / Entertainment / Internet</td>\n",
       "      <td>Job Description   Send me Jobs like this Quali...</td>\n",
       "      <td>210516002263</td>\n",
       "      <td>Chennai</td>\n",
       "      <td>Walkin Data Entry Operator (night Shift)</td>\n",
       "      <td>1,50,000 - 2,25,000 P.A</td>\n",
       "      <td>2016-05-21 19:30:00 +0000</td>\n",
       "      <td>ITES</td>\n",
       "      <td>43b19632647068535437c774b6ca6cf8</td>\n",
       "    </tr>\n",
       "    <tr>\n",
       "      <th>1</th>\n",
       "      <td>find live infotech</td>\n",
       "      <td>UG: B.Tech/B.E. - Any Specialization PG:MBA/PG...</td>\n",
       "      <td>0 - 0 yrs</td>\n",
       "      <td>Advertising / PR / MR / Event Management</td>\n",
       "      <td>Job Description   Send me Jobs like this Quali...</td>\n",
       "      <td>210516002391</td>\n",
       "      <td>Chennai</td>\n",
       "      <td>Work Based Onhome Based Part Time.</td>\n",
       "      <td>1,50,000 - 2,50,000 P.A. 20000</td>\n",
       "      <td>2016-05-21 19:30:00 +0000</td>\n",
       "      <td>Marketing</td>\n",
       "      <td>d4c72325e57f89f364812b5ed5a795f0</td>\n",
       "    </tr>\n",
       "    <tr>\n",
       "      <th>2</th>\n",
       "      <td>Softtech Career Infosystem Pvt. Ltd</td>\n",
       "      <td>UG: Any Graduate - Any Specialization PG:Any P...</td>\n",
       "      <td>4 - 8 yrs</td>\n",
       "      <td>IT-Software / Software Services</td>\n",
       "      <td>Job Description   Send me Jobs like this - as ...</td>\n",
       "      <td>101016900534</td>\n",
       "      <td>Bengaluru</td>\n",
       "      <td>Pl/sql Developer - SQL</td>\n",
       "      <td>Not Disclosed by Recruiter</td>\n",
       "      <td>2016-10-13 16:20:55 +0000</td>\n",
       "      <td>IT Software - Application Programming</td>\n",
       "      <td>c47df6f4cfdf5b46f1fd713ba61b9eba</td>\n",
       "    </tr>\n",
       "    <tr>\n",
       "      <th>3</th>\n",
       "      <td>Onboard HRServices LLP</td>\n",
       "      <td>UG: Any Graduate - Any Specialization PG:CA Do...</td>\n",
       "      <td>11 - 15 yrs</td>\n",
       "      <td>Banking / Financial Services / Broking</td>\n",
       "      <td>Job Description   Send me Jobs like this - Inv...</td>\n",
       "      <td>81016900536</td>\n",
       "      <td>Mumbai, Bengaluru, Kolkata, Chennai, Coimbator...</td>\n",
       "      <td>Manager/ad/partner - Indirect Tax - CA</td>\n",
       "      <td>Not Disclosed by Recruiter</td>\n",
       "      <td>2016-10-13 16:20:55 +0000</td>\n",
       "      <td>Accounts</td>\n",
       "      <td>115d28f140f694dd1cc61c53d03c66ae</td>\n",
       "    </tr>\n",
       "    <tr>\n",
       "      <th>4</th>\n",
       "      <td>Spire Technologies and Solutions Pvt. Ltd.</td>\n",
       "      <td>UG: B.Tech/B.E. - Any Specialization PG:Any Po...</td>\n",
       "      <td>6 - 8 yrs</td>\n",
       "      <td>IT-Software / Software Services</td>\n",
       "      <td>Job Description   Send me Jobs like this Pleas...</td>\n",
       "      <td>120916002122</td>\n",
       "      <td>Bengaluru</td>\n",
       "      <td>JAVA Technical Lead (6-8 yrs) -</td>\n",
       "      <td>Not Disclosed by Recruiter</td>\n",
       "      <td>2016-10-13 16:20:55 +0000</td>\n",
       "      <td>IT Software - Application Programming</td>\n",
       "      <td>a12553fc03bc7bcced8b1bb8963f97b4</td>\n",
       "    </tr>\n",
       "  </tbody>\n",
       "</table>\n",
       "</div>"
      ],
      "text/plain": [
       "                                      company  \\\n",
       "0                            MM Media Pvt Ltd   \n",
       "1                          find live infotech   \n",
       "2         Softtech Career Infosystem Pvt. Ltd   \n",
       "3                      Onboard HRServices LLP   \n",
       "4  Spire Technologies and Solutions Pvt. Ltd.   \n",
       "\n",
       "                                           education   experience  \\\n",
       "0  UG: B.Tech/B.E. - Any Specialization PG:Any Po...    0 - 1 yrs   \n",
       "1  UG: B.Tech/B.E. - Any Specialization PG:MBA/PG...    0 - 0 yrs   \n",
       "2  UG: Any Graduate - Any Specialization PG:Any P...    4 - 8 yrs   \n",
       "3  UG: Any Graduate - Any Specialization PG:CA Do...  11 - 15 yrs   \n",
       "4  UG: B.Tech/B.E. - Any Specialization PG:Any Po...    6 - 8 yrs   \n",
       "\n",
       "                                   industry  \\\n",
       "0          Media / Entertainment / Internet   \n",
       "1  Advertising / PR / MR / Event Management   \n",
       "2           IT-Software / Software Services   \n",
       "3    Banking / Financial Services / Broking   \n",
       "4           IT-Software / Software Services   \n",
       "\n",
       "                                      jobdescription         jobid  \\\n",
       "0  Job Description   Send me Jobs like this Quali...  210516002263   \n",
       "1  Job Description   Send me Jobs like this Quali...  210516002391   \n",
       "2  Job Description   Send me Jobs like this - as ...  101016900534   \n",
       "3  Job Description   Send me Jobs like this - Inv...   81016900536   \n",
       "4  Job Description   Send me Jobs like this Pleas...  120916002122   \n",
       "\n",
       "                                 joblocation_address  \\\n",
       "0                                            Chennai   \n",
       "1                                            Chennai   \n",
       "2                                          Bengaluru   \n",
       "3  Mumbai, Bengaluru, Kolkata, Chennai, Coimbator...   \n",
       "4                                          Bengaluru   \n",
       "\n",
       "                                   jobtitle                         payrate  \\\n",
       "0  Walkin Data Entry Operator (night Shift)         1,50,000 - 2,25,000 P.A   \n",
       "1        Work Based Onhome Based Part Time.  1,50,000 - 2,50,000 P.A. 20000   \n",
       "2                    Pl/sql Developer - SQL      Not Disclosed by Recruiter   \n",
       "3    Manager/ad/partner - Indirect Tax - CA      Not Disclosed by Recruiter   \n",
       "4           JAVA Technical Lead (6-8 yrs) -      Not Disclosed by Recruiter   \n",
       "\n",
       "                    postdate                                 skills  \\\n",
       "0  2016-05-21 19:30:00 +0000                                   ITES   \n",
       "1  2016-05-21 19:30:00 +0000                              Marketing   \n",
       "2  2016-10-13 16:20:55 +0000  IT Software - Application Programming   \n",
       "3  2016-10-13 16:20:55 +0000                               Accounts   \n",
       "4  2016-10-13 16:20:55 +0000  IT Software - Application Programming   \n",
       "\n",
       "                            uniq_id  \n",
       "0  43b19632647068535437c774b6ca6cf8  \n",
       "1  d4c72325e57f89f364812b5ed5a795f0  \n",
       "2  c47df6f4cfdf5b46f1fd713ba61b9eba  \n",
       "3  115d28f140f694dd1cc61c53d03c66ae  \n",
       "4  a12553fc03bc7bcced8b1bb8963f97b4  "
      ]
     },
     "execution_count": 8,
     "metadata": {},
     "output_type": "execute_result"
    }
   ],
   "source": [
    "data.head()"
   ]
  },
  {
   "cell_type": "code",
   "execution_count": 9,
   "metadata": {
    "collapsed": true
   },
   "outputs": [],
   "source": [
    "data[\"industry\"].fillna(\"Not Available\", inplace = True)"
   ]
  },
  {
   "cell_type": "code",
   "execution_count": 10,
   "metadata": {
    "collapsed": true
   },
   "outputs": [],
   "source": [
    "data[\"jobdescription\"].fillna(\"Not Available\", inplace = True)"
   ]
  },
  {
   "cell_type": "code",
   "execution_count": 11,
   "metadata": {},
   "outputs": [
    {
     "name": "stdout",
     "output_type": "stream",
     "text": [
      "company: 4\n",
      "education: 1996\n",
      "experience: 4\n",
      "industry: 0\n",
      "jobdescription: 0\n",
      "jobid: 0\n",
      "joblocation_address: 501\n",
      "jobtitle: 0\n",
      "payrate: 97\n",
      "postdate: 23\n",
      "skills: 528\n",
      "uniq_id: 0\n"
     ]
    }
   ],
   "source": [
    "for col_name in data.columns:\n",
    "    print (col_name,end=\": \")\n",
    "    print (sum(data[col_name].isnull()))"
   ]
  },
  {
   "cell_type": "markdown",
   "metadata": {},
   "source": [
    "## Class Distribution"
   ]
  },
  {
   "cell_type": "code",
   "execution_count": 12,
   "metadata": {},
   "outputs": [
    {
     "data": {
      "text/html": [
       "<div>\n",
       "<style>\n",
       "    .dataframe thead tr:only-child th {\n",
       "        text-align: right;\n",
       "    }\n",
       "\n",
       "    .dataframe thead th {\n",
       "        text-align: left;\n",
       "    }\n",
       "\n",
       "    .dataframe tbody tr th {\n",
       "        vertical-align: top;\n",
       "    }\n",
       "</style>\n",
       "<table border=\"1\" class=\"dataframe\">\n",
       "  <thead>\n",
       "    <tr style=\"text-align: right;\">\n",
       "      <th></th>\n",
       "      <th>company</th>\n",
       "      <th>education</th>\n",
       "      <th>experience</th>\n",
       "      <th>industry</th>\n",
       "      <th>jobdescription</th>\n",
       "      <th>jobid</th>\n",
       "      <th>joblocation_address</th>\n",
       "      <th>jobtitle</th>\n",
       "      <th>payrate</th>\n",
       "      <th>postdate</th>\n",
       "      <th>skills</th>\n",
       "      <th>uniq_id</th>\n",
       "    </tr>\n",
       "  </thead>\n",
       "  <tbody>\n",
       "    <tr>\n",
       "      <th>count</th>\n",
       "      <td>21996</td>\n",
       "      <td>20004</td>\n",
       "      <td>21996</td>\n",
       "      <td>22000</td>\n",
       "      <td>22000</td>\n",
       "      <td>2.200000e+04</td>\n",
       "      <td>21499</td>\n",
       "      <td>22000</td>\n",
       "      <td>21903</td>\n",
       "      <td>21977</td>\n",
       "      <td>21472</td>\n",
       "      <td>22000</td>\n",
       "    </tr>\n",
       "    <tr>\n",
       "      <th>unique</th>\n",
       "      <td>8469</td>\n",
       "      <td>2355</td>\n",
       "      <td>147</td>\n",
       "      <td>64</td>\n",
       "      <td>21064</td>\n",
       "      <td>NaN</td>\n",
       "      <td>2329</td>\n",
       "      <td>17564</td>\n",
       "      <td>1848</td>\n",
       "      <td>4203</td>\n",
       "      <td>45</td>\n",
       "      <td>22000</td>\n",
       "    </tr>\n",
       "    <tr>\n",
       "      <th>top</th>\n",
       "      <td>Indian Institute of Technology Bombay</td>\n",
       "      <td>UG: Any Graduate - Any Specialization, Graduat...</td>\n",
       "      <td>2 - 7 yrs</td>\n",
       "      <td>IT-Software / Software Services</td>\n",
       "      <td>Job Description   Send me Jobs like this Adver...</td>\n",
       "      <td>NaN</td>\n",
       "      <td>Bengaluru/Bangalore</td>\n",
       "      <td>Business Development Executive</td>\n",
       "      <td>Not Disclosed by Recruiter</td>\n",
       "      <td>2016-05-21 08:24:31 +0000</td>\n",
       "      <td>IT Software - Application Programming</td>\n",
       "      <td>97093cfed7aa3ea7908b133d6f7470d1</td>\n",
       "    </tr>\n",
       "    <tr>\n",
       "      <th>freq</th>\n",
       "      <td>403</td>\n",
       "      <td>2015</td>\n",
       "      <td>1712</td>\n",
       "      <td>9216</td>\n",
       "      <td>121</td>\n",
       "      <td>NaN</td>\n",
       "      <td>3775</td>\n",
       "      <td>93</td>\n",
       "      <td>15849</td>\n",
       "      <td>48</td>\n",
       "      <td>5989</td>\n",
       "      <td>1</td>\n",
       "    </tr>\n",
       "    <tr>\n",
       "      <th>mean</th>\n",
       "      <td>NaN</td>\n",
       "      <td>NaN</td>\n",
       "      <td>NaN</td>\n",
       "      <td>NaN</td>\n",
       "      <td>NaN</td>\n",
       "      <td>1.561171e+11</td>\n",
       "      <td>NaN</td>\n",
       "      <td>NaN</td>\n",
       "      <td>NaN</td>\n",
       "      <td>NaN</td>\n",
       "      <td>NaN</td>\n",
       "      <td>NaN</td>\n",
       "    </tr>\n",
       "    <tr>\n",
       "      <th>std</th>\n",
       "      <td>NaN</td>\n",
       "      <td>NaN</td>\n",
       "      <td>NaN</td>\n",
       "      <td>NaN</td>\n",
       "      <td>NaN</td>\n",
       "      <td>9.423956e+10</td>\n",
       "      <td>NaN</td>\n",
       "      <td>NaN</td>\n",
       "      <td>NaN</td>\n",
       "      <td>NaN</td>\n",
       "      <td>NaN</td>\n",
       "      <td>NaN</td>\n",
       "    </tr>\n",
       "    <tr>\n",
       "      <th>min</th>\n",
       "      <td>NaN</td>\n",
       "      <td>NaN</td>\n",
       "      <td>NaN</td>\n",
       "      <td>NaN</td>\n",
       "      <td>NaN</td>\n",
       "      <td>1.011600e+10</td>\n",
       "      <td>NaN</td>\n",
       "      <td>NaN</td>\n",
       "      <td>NaN</td>\n",
       "      <td>NaN</td>\n",
       "      <td>NaN</td>\n",
       "      <td>NaN</td>\n",
       "    </tr>\n",
       "    <tr>\n",
       "      <th>25%</th>\n",
       "      <td>NaN</td>\n",
       "      <td>NaN</td>\n",
       "      <td>NaN</td>\n",
       "      <td>NaN</td>\n",
       "      <td>NaN</td>\n",
       "      <td>6.121650e+10</td>\n",
       "      <td>NaN</td>\n",
       "      <td>NaN</td>\n",
       "      <td>NaN</td>\n",
       "      <td>NaN</td>\n",
       "      <td>NaN</td>\n",
       "      <td>NaN</td>\n",
       "    </tr>\n",
       "    <tr>\n",
       "      <th>50%</th>\n",
       "      <td>NaN</td>\n",
       "      <td>NaN</td>\n",
       "      <td>NaN</td>\n",
       "      <td>NaN</td>\n",
       "      <td>NaN</td>\n",
       "      <td>1.602169e+11</td>\n",
       "      <td>NaN</td>\n",
       "      <td>NaN</td>\n",
       "      <td>NaN</td>\n",
       "      <td>NaN</td>\n",
       "      <td>NaN</td>\n",
       "      <td>NaN</td>\n",
       "    </tr>\n",
       "    <tr>\n",
       "      <th>75%</th>\n",
       "      <td>NaN</td>\n",
       "      <td>NaN</td>\n",
       "      <td>NaN</td>\n",
       "      <td>NaN</td>\n",
       "      <td>NaN</td>\n",
       "      <td>2.502166e+11</td>\n",
       "      <td>NaN</td>\n",
       "      <td>NaN</td>\n",
       "      <td>NaN</td>\n",
       "      <td>NaN</td>\n",
       "      <td>NaN</td>\n",
       "      <td>NaN</td>\n",
       "    </tr>\n",
       "    <tr>\n",
       "      <th>max</th>\n",
       "      <td>NaN</td>\n",
       "      <td>NaN</td>\n",
       "      <td>NaN</td>\n",
       "      <td>NaN</td>\n",
       "      <td>NaN</td>\n",
       "      <td>3.112155e+11</td>\n",
       "      <td>NaN</td>\n",
       "      <td>NaN</td>\n",
       "      <td>NaN</td>\n",
       "      <td>NaN</td>\n",
       "      <td>NaN</td>\n",
       "      <td>NaN</td>\n",
       "    </tr>\n",
       "  </tbody>\n",
       "</table>\n",
       "</div>"
      ],
      "text/plain": [
       "                                      company  \\\n",
       "count                                   21996   \n",
       "unique                                   8469   \n",
       "top     Indian Institute of Technology Bombay   \n",
       "freq                                      403   \n",
       "mean                                      NaN   \n",
       "std                                       NaN   \n",
       "min                                       NaN   \n",
       "25%                                       NaN   \n",
       "50%                                       NaN   \n",
       "75%                                       NaN   \n",
       "max                                       NaN   \n",
       "\n",
       "                                                education experience  \\\n",
       "count                                               20004      21996   \n",
       "unique                                               2355        147   \n",
       "top     UG: Any Graduate - Any Specialization, Graduat...  2 - 7 yrs   \n",
       "freq                                                 2015       1712   \n",
       "mean                                                  NaN        NaN   \n",
       "std                                                   NaN        NaN   \n",
       "min                                                   NaN        NaN   \n",
       "25%                                                   NaN        NaN   \n",
       "50%                                                   NaN        NaN   \n",
       "75%                                                   NaN        NaN   \n",
       "max                                                   NaN        NaN   \n",
       "\n",
       "                               industry  \\\n",
       "count                             22000   \n",
       "unique                               64   \n",
       "top     IT-Software / Software Services   \n",
       "freq                               9216   \n",
       "mean                                NaN   \n",
       "std                                 NaN   \n",
       "min                                 NaN   \n",
       "25%                                 NaN   \n",
       "50%                                 NaN   \n",
       "75%                                 NaN   \n",
       "max                                 NaN   \n",
       "\n",
       "                                           jobdescription         jobid  \\\n",
       "count                                               22000  2.200000e+04   \n",
       "unique                                              21064           NaN   \n",
       "top     Job Description   Send me Jobs like this Adver...           NaN   \n",
       "freq                                                  121           NaN   \n",
       "mean                                                  NaN  1.561171e+11   \n",
       "std                                                   NaN  9.423956e+10   \n",
       "min                                                   NaN  1.011600e+10   \n",
       "25%                                                   NaN  6.121650e+10   \n",
       "50%                                                   NaN  1.602169e+11   \n",
       "75%                                                   NaN  2.502166e+11   \n",
       "max                                                   NaN  3.112155e+11   \n",
       "\n",
       "        joblocation_address                        jobtitle  \\\n",
       "count                 21499                           22000   \n",
       "unique                 2329                           17564   \n",
       "top     Bengaluru/Bangalore  Business Development Executive   \n",
       "freq                   3775                              93   \n",
       "mean                    NaN                             NaN   \n",
       "std                     NaN                             NaN   \n",
       "min                     NaN                             NaN   \n",
       "25%                     NaN                             NaN   \n",
       "50%                     NaN                             NaN   \n",
       "75%                     NaN                             NaN   \n",
       "max                     NaN                             NaN   \n",
       "\n",
       "                           payrate                   postdate  \\\n",
       "count                        21903                      21977   \n",
       "unique                        1848                       4203   \n",
       "top     Not Disclosed by Recruiter  2016-05-21 08:24:31 +0000   \n",
       "freq                         15849                         48   \n",
       "mean                           NaN                        NaN   \n",
       "std                            NaN                        NaN   \n",
       "min                            NaN                        NaN   \n",
       "25%                            NaN                        NaN   \n",
       "50%                            NaN                        NaN   \n",
       "75%                            NaN                        NaN   \n",
       "max                            NaN                        NaN   \n",
       "\n",
       "                                       skills  \\\n",
       "count                                   21472   \n",
       "unique                                     45   \n",
       "top     IT Software - Application Programming   \n",
       "freq                                     5989   \n",
       "mean                                      NaN   \n",
       "std                                       NaN   \n",
       "min                                       NaN   \n",
       "25%                                       NaN   \n",
       "50%                                       NaN   \n",
       "75%                                       NaN   \n",
       "max                                       NaN   \n",
       "\n",
       "                                 uniq_id  \n",
       "count                              22000  \n",
       "unique                             22000  \n",
       "top     97093cfed7aa3ea7908b133d6f7470d1  \n",
       "freq                                   1  \n",
       "mean                                 NaN  \n",
       "std                                  NaN  \n",
       "min                                  NaN  \n",
       "25%                                  NaN  \n",
       "50%                                  NaN  \n",
       "75%                                  NaN  \n",
       "max                                  NaN  "
      ]
     },
     "execution_count": 12,
     "metadata": {},
     "output_type": "execute_result"
    }
   ],
   "source": [
    "data.describe(include='all')"
   ]
  },
  {
   "cell_type": "markdown",
   "metadata": {},
   "source": [
    "## Handling Duplicate values"
   ]
  },
  {
   "cell_type": "code",
   "execution_count": 13,
   "metadata": {},
   "outputs": [
    {
     "data": {
      "text/plain": [
       "0"
      ]
     },
     "execution_count": 13,
     "metadata": {},
     "output_type": "execute_result"
    }
   ],
   "source": [
    "sum(data.duplicated())"
   ]
  },
  {
   "cell_type": "markdown",
   "metadata": {},
   "source": [
    "## Finding out the value distribution profile for the Job Category variable"
   ]
  },
  {
   "cell_type": "code",
   "execution_count": 14,
   "metadata": {
    "collapsed": true
   },
   "outputs": [],
   "source": [
    "category_counter={x:0 for x in set(data['industry'])}"
   ]
  },
  {
   "cell_type": "code",
   "execution_count": 15,
   "metadata": {
    "collapsed": true
   },
   "outputs": [],
   "source": [
    "for each_cat in data['industry']:\n",
    "    category_counter[each_cat]+=1"
   ]
  },
  {
   "cell_type": "code",
   "execution_count": 16,
   "metadata": {},
   "outputs": [
    {
     "name": "stdout",
     "output_type": "stream",
     "text": [
      "{'Security / Law Enforcement': 30, 'FMCG / Foods / Beverage': 220, 'Retail / Wholesale': 184, 'Media / Entertainment / Internet': 275, 'Telecom/ISP': 89, 'Consumer Electronics / Appliances / Durables': 156, 'Fertilizers / Pesticides': 7, 'Medical Devices / Equipments': 4, 'Medical / Healthcare / Hospitals': 495, 'KPO / Research / Analytics': 113, 'Other': 339, 'Animation / Gaming': 24, 'Automobile / Auto Anciliary / Auto Components': 478, 'Telecom/ISP /': 207, 'Courier / Transportation / Freight / Warehousing': 106, 'Industrial Products / Heavy Machinery': 307, 'Printing / Packaging': 39, 'Recruitment / Staffing': 1129, 'Banking / Financial Services / Broking': 1238, 'Government / Defence': 19, 'Publishing': 44, 'Pharma / Biotech / Clinical Research': 525, 'Construction / Engineering / Cement / Metals': 449, 'Office Equipment / Automation': 13, 'Food Processing': 18, 'BPO / Call Centre / ITES': 1254, 'Internet / Ecommerce': 738, 'Fresher / Trainee / Entry Level': 18, 'Accounting / Finance': 227, 'Electricals / Switchgears': 94, 'Wellness / Fitness / Sports': 30, 'Aviation / Aerospace Firms': 31, 'Glass / Glassware': 7, 'Legal': 23, 'Brewery / Distillery': 4, 'Facility Management': 33, 'Wellness / Fitness / Sports / Beauty': 12, 'Semiconductors / Electronics': 149, 'Oil and Gas / Energy / Power / Infrastructure': 208, 'IT-Hardware & Networking': 208, 'Ceramics / Sanitary ware': 21, 'Textiles / Garments / Accessories': 126, 'Real Estate / Property': 211, 'Heat Ventilation / Air Conditioning': 12, 'Export / Import': 34, 'Chemicals / PetroChemical / Plastic / Rubber': 90, 'Water Treatment / Waste Management': 10, 'Pulp and Paper': 2, 'Leather': 1, 'Tyres': 5, 'Broadcasting': 1, 'Iron and Steel': 24, 'Shipping / Marine': 18, 'NGO / Social Services / Regulators / Industry Associations': 76, 'Not Available': 5, 'Insurance': 169, 'Agriculture / Dairy': 44, 'Education / Teaching / Training': 1322, 'Architecture / Interior Design': 66, 'Advertising / PR / MR / Event Management': 251, 'Gems / Jewellery': 27, 'Strategy / Management Consulting Firms': 356, 'IT-Software / Software Services': 9216, 'Travel / Hotels / Restaurants / Airlines / Railways': 369}\n"
     ]
    }
   ],
   "source": [
    "print(category_counter)"
   ]
  },
  {
   "cell_type": "code",
   "execution_count": 17,
   "metadata": {
    "collapsed": true
   },
   "outputs": [],
   "source": [
    "skills_counter={x:0 for x in set(data['skills'])}"
   ]
  },
  {
   "cell_type": "code",
   "execution_count": 18,
   "metadata": {
    "collapsed": true
   },
   "outputs": [],
   "source": [
    "for each_skills in data['skills']:\n",
    "    skills_counter[each_skills]+=1"
   ]
  },
  {
   "cell_type": "code",
   "execution_count": 19,
   "metadata": {},
   "outputs": [
    {
     "data": {
      "text/plain": [
       "{nan: 528,\n",
       " 'Teaching': 1091,\n",
       " 'Sales': 2893,\n",
       " 'IT Software - Mainframe': 15,\n",
       " 'IT Software - eCommerce': 336,\n",
       " 'IT Software - Other': 407,\n",
       " 'IT Software - DBA': 273,\n",
       " 'Strategy': 80,\n",
       " 'IT Software - QA & Testing': 342,\n",
       " 'IT Software - System Programming': 176,\n",
       " 'IT Software - ERP': 354,\n",
       " 'Defence Forces': 13,\n",
       " 'IT Software - Middleware': 23,\n",
       " 'Beauty/Fitness/Spa Services': 3,\n",
       " 'IT Software - Client/Server Programming': 62,\n",
       " 'Medical': 418,\n",
       " 'Production': 667,\n",
       " 'IT Software - Telecom Software': 114,\n",
       " 'Supply Chain': 232,\n",
       " 'Executive Assistant': 172,\n",
       " 'Journalism': 252,\n",
       " 'Travel': 90,\n",
       " 'IT Software - Embedded': 262,\n",
       " 'Fashion Designing': 59,\n",
       " 'Top Management': 76,\n",
       " 'Analytics & Business Intelligence': 190,\n",
       " 'IT Software - Network Administration': 372,\n",
       " 'Hotels': 161,\n",
       " 'IT Software - Application Programming': 5989,\n",
       " 'Engineering Design': 382,\n",
       " 'HR': 928,\n",
       " 'Legal': 78,\n",
       " 'Architecture': 56,\n",
       " 'Marketing': 868,\n",
       " 'Financial Services': 413,\n",
       " 'IT Software - Mobile': 203,\n",
       " 'Accounts': 860,\n",
       " 'Shipping': 1,\n",
       " 'ITES': 1640,\n",
       " 'Site Engineering': 322,\n",
       " 'TV': 20,\n",
       " 'IT Software - Systems': 43,\n",
       " 'Export': 48,\n",
       " 'Design': 227,\n",
       " 'Packaging': 8,\n",
       " 'IT Hardware': 253}"
      ]
     },
     "execution_count": 19,
     "metadata": {},
     "output_type": "execute_result"
    }
   ],
   "source": [
    "skills_counter"
   ]
  },
  {
   "cell_type": "markdown",
   "metadata": {},
   "source": [
    "## Lexical Analysis of the text data"
   ]
  },
  {
   "cell_type": "code",
   "execution_count": 20,
   "metadata": {
    "collapsed": true
   },
   "outputs": [],
   "source": [
    "desc=data.describe()\n",
    "corpus=desc"
   ]
  },
  {
   "cell_type": "code",
   "execution_count": 21,
   "metadata": {
    "collapsed": true
   },
   "outputs": [],
   "source": [
    "all_words=[w.split() for w in corpus]\n",
    "\n",
    "all_flat_words=[ewords for words in all_words for ewords in words]\n",
    "\n",
    "from nltk.corpus import stopwords\n",
    "\n",
    "all_flat_words_ns=[w for w in all_flat_words if w not in stopwords.words(\"english\")]\n",
    "#removing all the stop words from the corpus\n",
    "\n",
    "set_nf=set(all_flat_words_ns)"
   ]
  },
  {
   "cell_type": "code",
   "execution_count": 22,
   "metadata": {},
   "outputs": [
    {
     "name": "stdout",
     "output_type": "stream",
     "text": [
      "Number of unique vocabulary words in the text_description column of the dataframe: 1\n"
     ]
    }
   ],
   "source": [
    "print(\"Number of unique vocabulary words in the text_description column of the dataframe: %d\"%len(set_nf))"
   ]
  },
  {
   "cell_type": "markdown",
   "metadata": {},
   "source": [
    "## Data Pre-Processing"
   ]
  },
  {
   "cell_type": "code",
   "execution_count": 23,
   "metadata": {
    "collapsed": true
   },
   "outputs": [],
   "source": [
    "##converting to lowercase\n",
    "data['jobdescription'] = data['jobdescription'].apply(lambda x: \" \".join(x.lower() for x in x.split()))  \n",
    "data['industry'] = data['industry'].apply(lambda x: \" \".join(x.lower() for x in x.split()))\n",
    "data['jobtitle'] = data['jobtitle'].apply(lambda x: \" \".join(x.lower() for x in x.split()))"
   ]
  },
  {
   "cell_type": "code",
   "execution_count": 24,
   "metadata": {
    "collapsed": true
   },
   "outputs": [],
   "source": [
    "##Lemmatization\n",
    "from textblob import Word\n",
    "data['jobdescription'] = data['jobdescription'].apply(lambda x: \" \".join([Word(word).lemmatize() for word in x.split()]))\n",
    "data['industry'] = data['industry'].apply(lambda x: \" \".join([Word(word).lemmatize() for word in x.split()]))\n",
    "data['jobtitle'] = data['jobtitle'].apply(lambda x: \" \".join([Word(word).lemmatize() for word in x.split()]))"
   ]
  },
  {
   "cell_type": "markdown",
   "metadata": {},
   "source": [
    "## Learning Classifiers, Making Predictions and Validating Results"
   ]
  },
  {
   "cell_type": "code",
   "execution_count": 25,
   "metadata": {},
   "outputs": [
    {
     "name": "stdout",
     "output_type": "stream",
     "text": [
      "Number of TFIDF Features: 1000\n"
     ]
    }
   ],
   "source": [
    "from sklearn.feature_extraction.text import TfidfVectorizer   ##tf-idf\n",
    "tfidf = TfidfVectorizer(max_features=1000, lowercase=True, analyzer='word',\n",
    " stop_words= 'english',ngram_range=(1,1))\n",
    "data_vect = tfidf.fit_transform(data['jobdescription'])\n",
    "data_vect\n",
    "tfidf_names=tfidf.get_feature_names()\n",
    "print(\"Number of TFIDF Features: %d\"%len(tfidf_names))"
   ]
  },
  {
   "cell_type": "code",
   "execution_count": 26,
   "metadata": {},
   "outputs": [
    {
     "name": "stdout",
     "output_type": "stream",
     "text": [
      "Number of TFIDF Features: 156\n"
     ]
    }
   ],
   "source": [
    "data_vect2 = tfidf.fit_transform(data['industry'])\n",
    "data_vect2\n",
    "tfidf_names2=tfidf.get_feature_names()\n",
    "print(\"Number of TFIDF Features: %d\"%len(tfidf_names2))"
   ]
  },
  {
   "cell_type": "code",
   "execution_count": 27,
   "metadata": {
    "collapsed": true
   },
   "outputs": [],
   "source": [
    "training_time_container={'b_naive_bayes':0,'mn_naive_bayes':0,'random_forest':0,'linear_svm':0}\n",
    "prediction_time_container={'b_naive_bayes':0,'mn_naive_bayes':0,'random_forest':0,'linear_svm':0}\n",
    "accuracy_container={'b_naive_bayes':0,'mn_naive_bayes':0,'random_forest':0,'linear_svm':0}"
   ]
  },
  {
   "cell_type": "code",
   "execution_count": 28,
   "metadata": {
    "collapsed": true
   },
   "outputs": [],
   "source": [
    "variables = data_vect2\n",
    "#considering the TFIDF features as independent variables to be input to the classifier.\n",
    "labels = data.industry\n",
    "#considering the category values as the class labels for the classifier.\n",
    "\n",
    "variables_train, variables_test, labels_train, labels_test  =   train_test_split(variables, labels, test_size=.3)"
   ]
  },
  {
   "cell_type": "code",
   "execution_count": 29,
   "metadata": {},
   "outputs": [
    {
     "name": "stdout",
     "output_type": "stream",
     "text": [
      "Shape of Training Data: (15400, 156)\n",
      "Shape of Test Data: (6600, 156)\n"
     ]
    }
   ],
   "source": [
    "print('Shape of Training Data: '+str(variables_train.shape))\n",
    "print('Shape of Test Data: '+str(variables_test.shape))"
   ]
  },
  {
   "cell_type": "markdown",
   "metadata": {},
   "source": [
    "## Applying Naive Bayes"
   ]
  },
  {
   "cell_type": "code",
   "execution_count": 30,
   "metadata": {},
   "outputs": [
    {
     "data": {
      "text/plain": [
       "dict_keys(['b_naive_bayes', 'mn_naive_bayes', 'random_forest', 'linear_svm'])"
      ]
     },
     "execution_count": 30,
     "metadata": {},
     "output_type": "execute_result"
    }
   ],
   "source": [
    "training_time_container.keys()"
   ]
  },
  {
   "cell_type": "code",
   "execution_count": 31,
   "metadata": {
    "collapsed": true
   },
   "outputs": [],
   "source": [
    "from sklearn.naive_bayes import BernoulliNB\n",
    "bnb_classifier=BernoulliNB()\n",
    "t0=time()\n",
    "bnb_classifier=bnb_classifier.fit(variables_train,labels_train)\n",
    "training_time_container['b_naive_bayes']=time()-t0"
   ]
  },
  {
   "cell_type": "code",
   "execution_count": 32,
   "metadata": {
    "collapsed": true
   },
   "outputs": [],
   "source": [
    "t0=time()\n",
    "bnb_predictions=bnb_classifier.predict(variables_test)\n",
    "prediction_time_container['b_naive_bayes']=time()-t0"
   ]
  },
  {
   "cell_type": "code",
   "execution_count": 33,
   "metadata": {},
   "outputs": [
    {
     "data": {
      "text/plain": [
       "0.008933305740356445"
      ]
     },
     "execution_count": 33,
     "metadata": {},
     "output_type": "execute_result"
    }
   ],
   "source": [
    "prediction_time_container['b_naive_bayes']"
   ]
  },
  {
   "cell_type": "code",
   "execution_count": 34,
   "metadata": {
    "collapsed": true
   },
   "outputs": [],
   "source": [
    "nb_ascore=sklearn.metrics.accuracy_score(labels_test, bnb_predictions)\n",
    "accuracy_container['b_naive_bayes']=nb_ascore"
   ]
  },
  {
   "cell_type": "code",
   "execution_count": 35,
   "metadata": {},
   "outputs": [
    {
     "name": "stdout",
     "output_type": "stream",
     "text": [
      "Bernoulli Naive Bayes Accuracy Score: 0.986212\n",
      "Training Time: 0.190793\n",
      "Prediction Time: 0.008933\n"
     ]
    }
   ],
   "source": [
    "print(\"Bernoulli Naive Bayes Accuracy Score: %f\"%accuracy_container['b_naive_bayes'])\n",
    "print(\"Training Time: %f\"%training_time_container['b_naive_bayes'])\n",
    "print(\"Prediction Time: %f\"%prediction_time_container['b_naive_bayes'])"
   ]
  },
  {
   "cell_type": "code",
   "execution_count": 36,
   "metadata": {},
   "outputs": [
    {
     "name": "stdout",
     "output_type": "stream",
     "text": [
      "Confusion Matrix of Bernoulli Naive Bayes Classifier output: \n"
     ]
    },
    {
     "data": {
      "text/plain": [
       "array([[64,  0,  0, ...,  0,  0,  0],\n",
       "       [ 0, 80,  0, ...,  0,  0,  0],\n",
       "       [ 0,  0, 15, ...,  0,  0,  0],\n",
       "       ..., \n",
       "       [ 0,  0,  0, ...,  2,  0,  0],\n",
       "       [ 0,  0,  0, ...,  0, 11,  0],\n",
       "       [ 0,  0,  0, ...,  0,  1,  0]], dtype=int64)"
      ]
     },
     "execution_count": 36,
     "metadata": {},
     "output_type": "execute_result"
    }
   ],
   "source": [
    "print(\"Confusion Matrix of Bernoulli Naive Bayes Classifier output: \")\n",
    "sklearn.metrics.confusion_matrix(labels_test,bnb_predictions)"
   ]
  },
  {
   "cell_type": "code",
   "execution_count": 37,
   "metadata": {},
   "outputs": [
    {
     "name": "stdout",
     "output_type": "stream",
     "text": [
      "Classification Metrics: \n",
      "                                                         precision    recall  f1-score   support\n",
      "\n",
      "                                   accounting / finance       1.00      1.00      1.00        64\n",
      "               advertising / pr / mr / event management       1.00      1.00      1.00        80\n",
      "                                    agriculture / dairy       1.00      1.00      1.00        15\n",
      "                                     animation / gaming       1.00      1.00      1.00         6\n",
      "                         architecture / interior design       1.00      1.00      1.00        15\n",
      "           automobile / auto anciliary / auto component       1.00      1.00      1.00       132\n",
      "                              aviation / aerospace firm       1.00      1.00      1.00        10\n",
      "                  banking / financial service / broking       1.00      1.00      1.00       375\n",
      "                               bpo / call centre / ites       1.00      1.00      1.00       353\n",
      "                                   brewery / distillery       0.00      0.00      0.00         1\n",
      "                                ceramic / sanitary ware       1.00      1.00      1.00         7\n",
      "            chemical / petrochemical / plastic / rubber       1.00      1.00      1.00        37\n",
      "            construction / engineering / cement / metal       1.00      1.00      1.00       143\n",
      "            consumer electronics / appliance / durables       1.00      1.00      1.00        44\n",
      "       courier / transportation / freight / warehousing       1.00      1.00      1.00        30\n",
      "                        education / teaching / training       1.00      1.00      1.00       408\n",
      "                              electricals / switchgears       1.00      1.00      1.00        22\n",
      "                                        export / import       1.00      1.00      1.00        12\n",
      "                                    facility management       1.00      1.00      1.00        10\n",
      "                                 fertilizer / pesticide       0.00      0.00      0.00         1\n",
      "                                 fmcg / food / beverage       1.00      1.00      1.00        70\n",
      "                                        food processing       1.00      1.00      1.00         2\n",
      "                        fresher / trainee / entry level       1.00      1.00      1.00         7\n",
      "                                        gem / jewellery       1.00      1.00      1.00        11\n",
      "                                      glass / glassware       0.00      0.00      0.00         5\n",
      "                                   government / defence       0.00      0.00      0.00         5\n",
      "                    heat ventilation / air conditioning       1.00      1.00      1.00         3\n",
      "                   industrial product / heavy machinery       1.00      1.00      1.00        98\n",
      "                                              insurance       1.00      1.00      1.00        45\n",
      "                                   internet / ecommerce       1.00      1.00      1.00       212\n",
      "                                         iron and steel       1.00      1.00      1.00         6\n",
      "                               it-hardware & networking       1.00      1.00      1.00        54\n",
      "                         it-software / software service       1.00      1.00      1.00      2758\n",
      "                             kpo / research / analytics       1.00      1.00      1.00        43\n",
      "                                                  legal       0.00      0.00      0.00        11\n",
      "                        medical / healthcare / hospital       1.00      1.00      1.00       146\n",
      "                             medical device / equipment       0.00      0.00      0.00         2\n",
      "                      medium / entertainment / internet       1.00      1.00      1.00        90\n",
      "ngo / social service / regulator / industry association       1.00      1.00      1.00        26\n",
      "                          office equipment / automation       0.00      0.00      0.00         5\n",
      "          oil and gas / energy / power / infrastructure       1.00      1.00      1.00        61\n",
      "                                                  other       0.61      1.00      0.76        87\n",
      "                   pharma / biotech / clinical research       1.00      1.00      1.00       150\n",
      "                                   printing / packaging       1.00      1.00      1.00        10\n",
      "                                             publishing       0.00      0.00      0.00        16\n",
      "                                         pulp and paper       0.00      0.00      0.00         1\n",
      "                                 real estate / property       1.00      1.00      1.00        71\n",
      "                                 recruitment / staffing       1.00      1.00      1.00       364\n",
      "                                     retail / wholesale       1.00      1.00      1.00        56\n",
      "                             security / law enforcement       1.00      1.00      1.00         6\n",
      "                            semiconductor / electronics       1.00      1.00      1.00        35\n",
      "                                      shipping / marine       0.00      0.00      0.00         9\n",
      "                  strategy / management consulting firm       1.00      1.00      1.00       123\n",
      "                                            telecom/isp       0.00      0.00      0.00        34\n",
      "                                          telecom/isp /       0.65      1.00      0.79        63\n",
      "                          textile / garment / accessory       1.00      1.00      1.00        31\n",
      "        travel / hotel / restaurant / airline / railway       1.00      1.00      1.00       105\n",
      "                     water treatment / waste management       1.00      1.00      1.00         2\n",
      "                             wellness / fitness / sport       0.92      1.00      0.96        11\n",
      "                    wellness / fitness / sport / beauty       0.00      0.00      0.00         1\n",
      "\n",
      "                                            avg / total       0.98      0.99      0.98      6600\n",
      "\n"
     ]
    },
    {
     "name": "stderr",
     "output_type": "stream",
     "text": [
      "C:\\Users\\dell\\Anaconda3\\lib\\site-packages\\sklearn\\metrics\\classification.py:1135: UndefinedMetricWarning: Precision and F-score are ill-defined and being set to 0.0 in labels with no predicted samples.\n",
      "  'precision', 'predicted', average, warn_for)\n"
     ]
    }
   ],
   "source": [
    "print(\"Classification Metrics: \")\n",
    "print(sklearn.metrics.classification_report(labels_test,bnb_predictions))"
   ]
  },
  {
   "cell_type": "markdown",
   "metadata": {},
   "source": [
    "## Multinomial Naive Bayes"
   ]
  },
  {
   "cell_type": "code",
   "execution_count": 38,
   "metadata": {
    "collapsed": true
   },
   "outputs": [],
   "source": [
    "from sklearn.naive_bayes import MultinomialNB\n",
    "mn_bayes=MultinomialNB()\n",
    "t0=time()\n",
    "mn_bayes_fit=mn_bayes.fit(variables_train,labels_train)\n",
    "training_time_container['mn_naive_bayes']=time()-t0\n",
    "t0=time()\n",
    "prediction_mn=mn_bayes_fit.predict(variables_test)\n",
    "prediction_time_container['mn_naive_bayes']=time()-t0\n",
    "mn_ascore=sklearn.metrics.accuracy_score(labels_test, prediction_mn) \n",
    "accuracy_container['mn_naive_bayes']=mn_ascore"
   ]
  },
  {
   "cell_type": "code",
   "execution_count": 39,
   "metadata": {},
   "outputs": [
    {
     "name": "stdout",
     "output_type": "stream",
     "text": [
      "Accuracy Score of Multi-Nomial Naive Bayes: 0.975152\n",
      "Training Time: 0.227616s\n",
      "Prediction Time: 0.011582s\n"
     ]
    }
   ],
   "source": [
    "print(\"Accuracy Score of Multi-Nomial Naive Bayes: %f\" %(mn_ascore))\n",
    "print(\"Training Time: %fs\"%training_time_container['mn_naive_bayes'])\n",
    "print(\"Prediction Time: %fs\"%prediction_time_container['mn_naive_bayes'])"
   ]
  },
  {
   "cell_type": "markdown",
   "metadata": {},
   "source": [
    "## Random Forest Classifier"
   ]
  },
  {
   "cell_type": "code",
   "execution_count": 40,
   "metadata": {},
   "outputs": [
    {
     "name": "stdout",
     "output_type": "stream",
     "text": [
      "Training Time: 0.521030s\n",
      "Prediction Time: 0.341866s\n",
      "Accuracy Score of Random Forests Classifier: \n",
      "0.994848484848\n",
      "[[64  0  0 ...,  0  0  0]\n",
      " [ 0 80  0 ...,  0  0  0]\n",
      " [ 0  0 15 ...,  0  0  0]\n",
      " ..., \n",
      " [ 0  0  0 ...,  2  0  0]\n",
      " [ 0  0  0 ...,  0 11  0]\n",
      " [ 0  0  0 ...,  0  0  1]]\n"
     ]
    }
   ],
   "source": [
    "from sklearn.ensemble import RandomForestClassifier\n",
    "\n",
    "rf_classifier=RandomForestClassifier(n_estimators=50)\n",
    "t0=time()\n",
    "rf_classifier=rf_classifier.fit(variables_train,labels_train)\n",
    "\n",
    "training_time_container['random_forest']=time()-t0\n",
    "print(\"Training Time: %fs\"%training_time_container['random_forest'])\n",
    "\n",
    "t0=time()\n",
    "rf_predictions=rf_classifier.predict(variables_test)\n",
    "prediction_time_container['random_forest']=time()-t0\n",
    "print(\"Prediction Time: %fs\"%prediction_time_container['random_forest'])\n",
    "\n",
    "accuracy_container['random_forest']=sklearn.metrics.accuracy_score(labels_test, rf_predictions)\n",
    "print (\"Accuracy Score of Random Forests Classifier: \")\n",
    "print(accuracy_container['random_forest'])\n",
    "print(sklearn.metrics.confusion_matrix(labels_test,rf_predictions))"
   ]
  },
  {
   "cell_type": "markdown",
   "metadata": {},
   "source": [
    "## SVM using stochastic Gradient Descent"
   ]
  },
  {
   "cell_type": "code",
   "execution_count": 41,
   "metadata": {},
   "outputs": [
    {
     "name": "stderr",
     "output_type": "stream",
     "text": [
      "C:\\Users\\dell\\Anaconda3\\lib\\site-packages\\sklearn\\linear_model\\stochastic_gradient.py:128: FutureWarning: max_iter and tol parameters have been added in <class 'sklearn.linear_model.stochastic_gradient.SGDClassifier'> in 0.19. If both are left unset, they default to max_iter=5 and tol=None. If tol is not None, max_iter defaults to max_iter=1000. From 0.21, default max_iter will be 1000, and default tol will be 1e-3.\n",
      "  \"and default tol will be 1e-3.\" % type(self), FutureWarning)\n"
     ]
    },
    {
     "name": "stdout",
     "output_type": "stream",
     "text": [
      "Training Time: 0.676548s\n",
      "Prediction Time: 0.010617s\n",
      "Accuracy Score of Linear SVM Classifier: 0.994697\n",
      "[[64  0  0 ...,  0  0  0]\n",
      " [ 0 80  0 ...,  0  0  0]\n",
      " [ 0  0 15 ...,  0  0  0]\n",
      " ..., \n",
      " [ 0  0  0 ...,  2  0  0]\n",
      " [ 0  0  0 ...,  0 11  0]\n",
      " [ 0  0  0 ...,  0  0  1]]\n"
     ]
    }
   ],
   "source": [
    "from sklearn import linear_model\n",
    "\n",
    "svm_classifier=linear_model.SGDClassifier(loss='hinge',alpha=0.0001)\n",
    "\n",
    "t0=time()\n",
    "svm_classifier=svm_classifier.fit(variables_train, labels_train)\n",
    "training_time_container['linear_svm']=time()-t0\n",
    "print(\"Training Time: %fs\"%training_time_container['linear_svm'])\n",
    "\n",
    "t0=time()\n",
    "svm_predictions=svm_classifier.predict(variables_test)\n",
    "prediction_time_container['linear_svm']=time()-t0\n",
    "print(\"Prediction Time: %fs\"%prediction_time_container['linear_svm'])\n",
    "\n",
    "accuracy_container['linear_svm']=sklearn.metrics.accuracy_score(labels_test, svm_predictions)\n",
    "print (\"Accuracy Score of Linear SVM Classifier: %f\"%accuracy_container['linear_svm'])\n",
    "print(sklearn.metrics.confusion_matrix(labels_test,svm_predictions))"
   ]
  },
  {
   "cell_type": "markdown",
   "metadata": {},
   "source": [
    "## SVM with non-linear Kernel"
   ]
  },
  {
   "cell_type": "code",
   "execution_count": 42,
   "metadata": {},
   "outputs": [
    {
     "name": "stdout",
     "output_type": "stream",
     "text": [
      "Accuracy score of Non-Linear SVM: 0.994697\n"
     ]
    }
   ],
   "source": [
    "from sklearn.svm import SVC\n",
    "\n",
    "nl_svm_classifier=SVC(C=1000000.0, gamma='auto', kernel='rbf')\n",
    "\n",
    "t0=time()\n",
    "nl_svm_classifier=nl_svm_classifier.fit(variables_train,labels_train)\n",
    "training_time_container['non_linear_svm']=time()-t0\n",
    "\n",
    "t0=time()\n",
    "nl_svm_predictions=nl_svm_classifier.predict(variables_test)\n",
    "prediction_time_container['non_linear_svm']=time()-t0\n",
    "\n",
    "accuracy_container['non_linear_svm']=sklearn.metrics.accuracy_score(labels_test,nl_svm_predictions)\n",
    "\n",
    "print(\"Accuracy score of Non-Linear SVM: %f\"%accuracy_container['linear_svm'])"
   ]
  },
  {
   "cell_type": "code",
   "execution_count": 43,
   "metadata": {
    "collapsed": true
   },
   "outputs": [],
   "source": [
    "%matplotlib inline\n",
    "import matplotlib.pyplot as plt"
   ]
  },
  {
   "cell_type": "code",
   "execution_count": 44,
   "metadata": {},
   "outputs": [
    {
     "data": {
      "image/png": "[encoded data removed]",
      "text/plain": [
       "<matplotlib.figure.Figure at 0x28e9a1932b0>"
      ]
     },
     "metadata": {},
     "output_type": "display_data"
    }
   ],
   "source": [
    "labels = ['b_NB', 'mn_NB', 'RF', 'l_SVM', 'nl_SVM']\n",
    "usage = accuracy_container.values()\n",
    "\n",
    "# Generating the y positions. Later, we'll use them to replace them with labels.\n",
    "y_positions = range(len(labels))\n",
    "\n",
    "# Creating our bar plot\n",
    "plt.bar(y_positions, usage)\n",
    "\n",
    "plt.xticks(y_positions, labels)\n",
    "plt.ylabel(\"Usage (%)\")\n",
    "plt.title(\"Programming language usage\")\n",
    "plt.show()"
   ]
  },
  {
   "cell_type": "markdown",
   "metadata": {},
   "source": [
    "## Cross-Validation"
   ]
  },
  {
   "cell_type": "code",
   "execution_count": 49,
   "metadata": {
    "collapsed": true
   },
   "outputs": [],
   "source": [
    "from sklearn import cross_validation"
   ]
  },
  {
   "cell_type": "code",
   "execution_count": 50,
   "metadata": {},
   "outputs": [
    {
     "name": "stderr",
     "output_type": "stream",
     "text": [
      "C:\\Users\\dell\\Anaconda3\\lib\\site-packages\\sklearn\\cross_validation.py:553: Warning: The least populated class in y has only 1 members, which is too few. The minimum number of labels for any class cannot be less than n_folds=5.\n",
      "  % (min_labels, self.n_folds)), Warning)\n"
     ]
    }
   ],
   "source": [
    "mn_bayes=MultinomialNB()\n",
    "cv_scores = cross_validation.cross_val_score(mn_bayes, variables_train, labels_train, cv=5)"
   ]
  },
  {
   "cell_type": "code",
   "execution_count": 51,
   "metadata": {},
   "outputs": [
    {
     "name": "stdout",
     "output_type": "stream",
     "text": [
      "Accuracy: 0.97 (+/- 0.00)\n"
     ]
    },
    {
     "name": "stderr",
     "output_type": "stream",
     "text": [
      "C:\\Users\\dell\\Anaconda3\\lib\\site-packages\\sklearn\\cross_validation.py:553: Warning: The least populated class in y has only 1 members, which is too few. The minimum number of labels for any class cannot be less than n_folds=5.\n",
      "  % (min_labels, self.n_folds)), Warning)\n",
      "C:\\Users\\dell\\Anaconda3\\lib\\site-packages\\sklearn\\metrics\\classification.py:1135: UndefinedMetricWarning: F-score is ill-defined and being set to 0.0 in labels with no predicted samples.\n",
      "  'precision', 'predicted', average, warn_for)\n",
      "C:\\Users\\dell\\Anaconda3\\lib\\site-packages\\sklearn\\metrics\\classification.py:1135: UndefinedMetricWarning: F-score is ill-defined and being set to 0.0 in labels with no predicted samples.\n",
      "  'precision', 'predicted', average, warn_for)\n",
      "C:\\Users\\dell\\Anaconda3\\lib\\site-packages\\sklearn\\metrics\\classification.py:1135: UndefinedMetricWarning: F-score is ill-defined and being set to 0.0 in labels with no predicted samples.\n",
      "  'precision', 'predicted', average, warn_for)\n",
      "C:\\Users\\dell\\Anaconda3\\lib\\site-packages\\sklearn\\metrics\\classification.py:1135: UndefinedMetricWarning: F-score is ill-defined and being set to 0.0 in labels with no predicted samples.\n",
      "  'precision', 'predicted', average, warn_for)\n",
      "C:\\Users\\dell\\Anaconda3\\lib\\site-packages\\sklearn\\metrics\\classification.py:1135: UndefinedMetricWarning: F-score is ill-defined and being set to 0.0 in labels with no predicted samples.\n",
      "  'precision', 'predicted', average, warn_for)\n"
     ]
    }
   ],
   "source": [
    "print(\"Accuracy: %0.2f (+/- %0.2f)\" % (cv_scores.mean(), cv_scores.std() * 2))\n",
    "cv_scores_f1=cross_validation.cross_val_score(mn_bayes,variables_train,labels_train,cv=5,scoring='f1_weighted')"
   ]
  },
  {
   "cell_type": "code",
   "execution_count": 52,
   "metadata": {},
   "outputs": [
    {
     "name": "stdout",
     "output_type": "stream",
     "text": [
      "F1-Scores of Naive Bayes Classifier on Cross Validation Data: 0.963160\n"
     ]
    }
   ],
   "source": [
    "print(\"F1-Scores of Naive Bayes Classifier on Cross Validation Data: %f\"%cv_scores_f1.mean())"
   ]
  },
  {
   "cell_type": "code",
   "execution_count": 53,
   "metadata": {},
   "outputs": [
    {
     "data": {
      "text/plain": [
       "0.9751515151515151"
      ]
     },
     "execution_count": 53,
     "metadata": {},
     "output_type": "execute_result"
    }
   ],
   "source": [
    "accuracy_container['mn_naive_bayes']"
   ]
  },
  {
   "cell_type": "code",
   "execution_count": null,
   "metadata": {
    "collapsed": true
   },
   "outputs": [],
   "source": []
  }
 ],
 "metadata": {
  "kernelspec": {
   "display_name": "Python 3",
   "language": "python",
   "name": "python3"
  },
  "language_info": {
   "codemirror_mode": {
    "name": "ipython",
    "version": 3
   },
   "file_extension": ".py",
   "mimetype": "text/x-python",
   "name": "python",
   "nbconvert_exporter": "python",
   "pygments_lexer": "ipython3",
   "version": "3.6.3"
  }
 },
 "nbformat": 4,
 "nbformat_minor": 2
}
